{
 "cells": [
  {
   "cell_type": "markdown",
   "metadata": {},
   "source": [
    "# WEEK 4 (BATTLE OF THENEIGHBORHOODS)"
   ]
  },
  {
   "cell_type": "markdown",
   "metadata": {},
   "source": [
    "## PROBLEM"
   ]
  },
  {
   "cell_type": "markdown",
   "metadata": {},
   "source": [
    "Imagine you're in New York as a tourist and are visitng many famous places, you have heard that there are many Art Museums who showcase paintings of your favorite artist. The main problems here are that do not know which Art Museum showcase the work of your favorite artist and this is your first time in New York so you do not know about locations around."
   ]
  },
  {
   "cell_type": "markdown",
   "metadata": {},
   "source": [
    "##  SOLUTION"
   ]
  },
  {
   "cell_type": "markdown",
   "metadata": {},
   "source": [
    "Using Foursquare API you can collect data of Art Museums in New York City and using the tips,photos and details and can collect all the necessary data of the closet art museum showcasing your favorite artist, you can see the ratings that place have and other necessary information. "
   ]
  },
  {
   "cell_type": "code",
   "execution_count": null,
   "metadata": {},
   "outputs": [],
   "source": []
  }
 ],
 "metadata": {
  "kernelspec": {
   "display_name": "Python 3",
   "language": "python",
   "name": "python3"
  },
  "language_info": {
   "codemirror_mode": {
    "name": "ipython",
    "version": 3
   },
   "file_extension": ".py",
   "mimetype": "text/x-python",
   "name": "python",
   "nbconvert_exporter": "python",
   "pygments_lexer": "ipython3",
   "version": "3.7.6"
  }
 },
 "nbformat": 4,
 "nbformat_minor": 4
}
